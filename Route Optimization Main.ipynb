{
 "cells": [
  {
   "cell_type": "markdown",
   "metadata": {},
   "source": [
    "**Route Optimization**\n",
    "\n",
    "**List of Authors**\n",
    "- Arjun Mohankumar\n",
    "- Kaarthicsudhan Sowripalayam Mani\n",
    "- Gokul Ram Ellapalayam Rajendran"
   ]
  },
  {
   "cell_type": "code",
   "execution_count": 1,
   "metadata": {},
   "outputs": [],
   "source": [
    "#import Pkg; Pkg.add(\"Graphs\")\n",
    "using Graphs"
   ]
  },
  {
   "cell_type": "code",
   "execution_count": 2,
   "metadata": {},
   "outputs": [
    {
     "data": {
      "text/plain": [
       "128×128 Matrix{Int64}:\n",
       "    0   966  1513  2964  1149   927  …  1636  2019  1458  1564  2871   348\n",
       "  966     0  2410  1520  1817   729      558   571   943   198  1917  2541\n",
       " 1513  2410     0   604   481  2742     1095  2154  1211  2217  2673  1570\n",
       " 2964  1520   604     0   595  1289      986  2719  1437   769  1038  2343\n",
       " 1149  1817   481   595     0   494      260  2586  1974  2352  2243   691\n",
       "  927   729  2742  1289   494     0  …   928  1791  1865  2917   543  1943\n",
       " 1611   686  1833  1446   550  1279      273  2580   861  2784   249   246\n",
       " 1510   290   826   466  2641  1197     1294  1917  1807  1989   345   413\n",
       "  390  1823   214  1139   765  2956     1197   725  1127  2778  1071   405\n",
       "  466   168  1618   430   934   299     1433  2797   973  2115   281   723\n",
       "    ⋮                             ⋮  ⋱                       ⋮        \n",
       "  168  1127   486   861  1994   120     1815  2927  1007  2847  1596   270\n",
       "  565   432   590   499   324  1429  …   550   710  2154  2154   454  1249\n",
       " 1700  2265  2132  1408  2187  1526      721  1496  1047  3125   912   506\n",
       " 1636   558  1095   986   260   928        0  2373   782   610   307   565\n",
       " 2019   571  2154  2719  2586  1791     2373     0  1600  1694  2727   619\n",
       " 1458   943  1211  1437  1974  1865      782  1600     0  2571  1283  2380\n",
       " 1564   198  2217   769  2352  2917  …   610  1694  2571     0   321   936\n",
       " 2871  1917  2673  1038  2243   543      307  2727  1283   321     0    34\n",
       "  348  2541  1570  2343   691  1943      565   619  2380   936    34     0"
      ]
     },
     "metadata": {},
     "output_type": "display_data"
    }
   ],
   "source": [
    "using DelimitedFiles\n",
    "lines = readdlm(\"sgb128_dist.txt\")\n",
    "content = lines[1:end,1:end]\n",
    "content = round.(Int64,content)\n",
    "#content"
   ]
  },
  {
   "cell_type": "code",
   "execution_count": 3,
   "metadata": {},
   "outputs": [],
   "source": [
    "#content[91,5]"
   ]
  },
  {
   "cell_type": "code",
   "execution_count": 4,
   "metadata": {},
   "outputs": [],
   "source": [
    "#import Pkg; Pkg.add(\"SimpleWeightedGraphs\")\n",
    "using SimpleWeightedGraphs,GraphPlot"
   ]
  },
  {
   "cell_type": "code",
   "execution_count": 5,
   "metadata": {},
   "outputs": [
    {
     "data": {
      "text/plain": [
       "{128, 16256} directed simple Int64 graph with Int64 weights"
      ]
     },
     "metadata": {},
     "output_type": "display_data"
    }
   ],
   "source": [
    "g=SimpleWeightedDiGraph(content)\n",
    "#gplot(g,  edgelabel=weight.(SimpleWeightedGraphs.edges(g)))"
   ]
  },
  {
   "cell_type": "code",
   "execution_count": 6,
   "metadata": {},
   "outputs": [],
   "source": [
    "#using LightGraphs"
   ]
  },
  {
   "cell_type": "code",
   "execution_count": 7,
   "metadata": {},
   "outputs": [
    {
     "data": {
      "text/plain": [
       "shortest_path (generic function with 1 method)"
      ]
     },
     "metadata": {},
     "output_type": "display_data"
    }
   ],
   "source": [
    "function traverse_graph(\n",
    "    G::SimpleWeightedDiGraph, \n",
    "    J::AbstractArray, \n",
    "    start_node::Int, end_node::Int\n",
    ")\n",
    "path = Int[start_node]\n",
    "cost = 0.0\n",
    "W = SimpleWeightedGraphs.weights(G)\n",
    "\n",
    "# TODO: step1, initialize v\n",
    "v = start_node  # CHANGE ME\n",
    "num = 0\n",
    "while v != end_node && num < SimpleWeightedGraphs.nv(G)  # prevent infinite loop\n",
    "    num +=1\n",
    "    F_v = Graphs.neighbors(G, v)\n",
    "\n",
    "    # TODO: step 2, compute costs for all n in F_v\n",
    "    costs = [W[v, n] + J[n] for n in F_v]  # CHANGE ME\n",
    "\n",
    "    n = F_v[argmin(costs)]\n",
    "\n",
    "    # TODO: how should we update cost of just the one edge!?\n",
    "    cost += W[v, n] # CHANGE ME\n",
    "\n",
    "    push!(path, n)\n",
    "\n",
    "    # TODO: step 3 -- update v\n",
    "    v = n  # CHANGE MEa\n",
    "end\n",
    "path, cost\n",
    "end\n",
    "cost(W, J, n, v) = W[v, n] + J[n]\n",
    "function compute_J(G::SimpleWeightedDiGraph, dest_node::Int)\n",
    "    N = SimpleWeightedGraphs.nv(G)\n",
    "    # step 1. start with zeros\n",
    "    i = 0\n",
    "    Ji = zeros(N)\n",
    "\n",
    "    # allocating memory/creating the array we will \n",
    "    # fill in for J_{i+1}\n",
    "    next_J = zeros(N)\n",
    "\n",
    "    # get the weight matrix from the graph G\n",
    "    W = SimpleWeightedGraphs.weights(G)\n",
    "\n",
    "    done = false\n",
    "    while !done\n",
    "        i += 1\n",
    "        for v in 1:N\n",
    "            if v == dest_node\n",
    "                next_J[v] = 0\n",
    "                continue\n",
    "            end\n",
    "            F_v = Graphs.neighbors(G, v)\n",
    "            costs = [cost(W, Ji, n, v) for n in F_v]\n",
    "            next_J[v] = minimum(costs)\n",
    "        end\n",
    "        done = all(next_J .≈ Ji)\n",
    "        copy!(Ji, next_J)\n",
    "    end\n",
    "    Ji\n",
    "end\n",
    "function shortest_path(G::SimpleWeightedDiGraph, start_node::Int, end_node::Int)\n",
    "    J = compute_J(G, end_node)\n",
    "    traverse_graph(G, J, start_node, end_node)\n",
    "end"
   ]
  },
  {
   "cell_type": "code",
   "execution_count": 8,
   "metadata": {},
   "outputs": [],
   "source": [
    "#shortest_path(g,1,4)"
   ]
  },
  {
   "cell_type": "code",
   "execution_count": 9,
   "metadata": {},
   "outputs": [
    {
     "data": {
      "text/plain": [
       "128-element Vector{String}:\n",
       " \"Youngstown, OH\"\n",
       " \"Yankton, SD\"\n",
       " \"Yakima, WA\"\n",
       " \"Worcester, MA\"\n",
       " \"Wisconsin Dells, WI\"\n",
       " \"Winston-Salem, NC\"\n",
       " \"Winnipeg, MB\"\n",
       " \"Winchester, VA\"\n",
       " \"Wilmington, NC\"\n",
       " \"Wilmington, DE\"\n",
       " ⋮\n",
       " \"Richmond, VA\"\n",
       " \"Richmond, IN\"\n",
       " \"Richfield, UT\"\n",
       " \"Rhinelander, WI\"\n",
       " \"Reno, NV\"\n",
       " \"Regina, SA\"\n",
       " \"Red Bluff, CA\"\n",
       " \"Reading, PA\"\n",
       " \"Ravenna, OH\""
      ]
     },
     "metadata": {},
     "output_type": "display_data"
    }
   ],
   "source": [
    "function remove_hash_lines(input_file::AbstractString)\n",
    "    # Open the input file in read mode\n",
    "    open(input_file, \"r\") do file\n",
    "        # Read all the lines from the file\n",
    "        lines = readlines(file)\n",
    "        \n",
    "        # Initialize an empty list to store the filtered lines\n",
    "        filtered_lines = Vector{String}()\n",
    "        \n",
    "        # Iterate over each line\n",
    "        for line in lines\n",
    "            # Check if the line starts with a hash symbol\n",
    "            if !startswith(line, '#')\n",
    "                # If the line doesn't start with a hash, append it to the filtered lines list\n",
    "                push!(filtered_lines, line)\n",
    "            end\n",
    "        end\n",
    "        \n",
    "        return filtered_lines\n",
    "    end\n",
    "end\n",
    "\n",
    "# Usage\n",
    "filtered_lines = remove_hash_lines(\"sgb128_name.txt\")\n",
    "#filtered_lines"
   ]
  },
  {
   "cell_type": "code",
   "execution_count": 10,
   "metadata": {},
   "outputs": [
    {
     "data": {
      "text/plain": [
       "Dict{Vector{String}, Int64} with 128 entries:\n",
       "  [\"Utica\", \"NY\"]        => 37\n",
       "  [\"Trenton\", \"NJ\"]      => 46\n",
       "  [\"Waterbury\", \"CT\"]    => 26\n",
       "  [\"Wilmington\", \"NC\"]   => 9\n",
       "  [\"Syracuse\", \"NY\"]     => 56\n",
       "  [\"Salina\", \"KS\"]       => 100\n",
       "  [\"Salem\", \"OR\"]        => 102\n",
       "  [\"Tulsa\", \"OK\"]        => 43\n",
       "  [\"Waterloo\", \"IA\"]     => 25\n",
       "  [\"Richmond\", \"VA\"]     => 120\n",
       "  [\"Reading\", \"PA\"]      => 127\n",
       "  [\"Sioux City\", \"IA\"]   => 72\n",
       "  [\"San Jose\", \"CA\"]     => 90\n",
       "  [\"Santa Fe\", \"NM\"]     => 87\n",
       "  [\"Tallahassee\", \"FL\"]  => 54\n",
       "  [\"Ravenna\", \"OH\"]      => 128\n",
       "  [\"Stroudsburg\", \"PA\"]  => 59\n",
       "  [\"Texarkana\", \"TX\"]    => 51\n",
       "  [\"Rutland\", \"VT\"]      => 112\n",
       "  ⋮                      => ⋮"
      ]
     },
     "metadata": {},
     "output_type": "display_data"
    }
   ],
   "source": [
    "split_lists = Vector{Vector{String}}()\n",
    "    \n",
    "for line in filtered_lines\n",
    "    # Split the line based on comma (',') and strip whitespace from each element\n",
    "    split_elements = [strip(element) for element in split(line, ',')]\n",
    "    \n",
    "    # Append the split elements to the list of lists\n",
    "    push!(split_lists, split_elements)\n",
    "end\n",
    "#split_lists\n",
    "map_board=Dict(zip(split_lists,1:length(split_lists)))"
   ]
  },
  {
   "cell_type": "code",
   "execution_count": 11,
   "metadata": {},
   "outputs": [],
   "source": [
    "#shortest_path(g,map_board[[\"Utica\", \"NY\"]],map_board[[\"Trenton\", \"NJ\"]])"
   ]
  },
  {
   "cell_type": "code",
   "execution_count": 12,
   "metadata": {},
   "outputs": [
    {
     "data": {
      "text/plain": [
       "checkNode (generic function with 1 method)"
      ]
     },
     "metadata": {},
     "output_type": "display_data"
    }
   ],
   "source": [
    " function checkNode(G::SimpleWeightedDiGraph,start,end1,inbetween)\n",
    "    l = shortest_path(G,start,end1)[1] \n",
    "    res = setdiff(Set(inbetween),Set(l))\n",
    "    collect(res)\n",
    " end"
   ]
  },
  {
   "cell_type": "code",
   "execution_count": 13,
   "metadata": {},
   "outputs": [
    {
     "data": {
      "text/plain": [
       "number_of_trucks (generic function with 2 methods)"
      ]
     },
     "metadata": {},
     "output_type": "display_data"
    }
   ],
   "source": [
    "#finding number of trucks\n",
    "#if number of intermediate locations >2\n",
    "function number_of_trucks(G::SimpleWeightedDiGraph,start,end1,inBetween=[])\n",
    "    if length(inBetween)==0\n",
    "        l1=shortest_path(G,start,end1)\n",
    "        println(\"Path is \",l1[1])\n",
    "        println(\"Cost is \",l1[2])\n",
    "        println(\"1 truck is enough\")\n",
    "        return\n",
    "    end\n",
    "    #checking any inbetween node is in shortest path between start and end\n",
    "    c=checkNode(G,start,end1,inBetween)\n",
    "    if length(c)==0\n",
    "        l1=shortest_path(G,start,end1)\n",
    "        println(\"Path is \",l1[1])\n",
    "        println(\"Cost is \",l1[2])\n",
    "        println(\"1 truck is enough\")\n",
    "        return\n",
    "    end\n",
    "    if length(c)==1 && length(inBetween)==1\n",
    "        cost1 = [0,0,0]\n",
    "        cost1[1]=Int(shortest_path(G,start,end1)[2])\n",
    "        l1 = shortest_path(G,start,inBetween[1])\n",
    "        c1 = checkNode(G,start,inBetween[1],[end1])\n",
    "        if length(c1)==0\n",
    "            println(\"Path is \",l1[1])\n",
    "            println(\"Cost is \",l1[2])\n",
    "            println(\"1 truck is enough\")\n",
    "            return\n",
    "        end\n",
    "        cost1[2]=Int(l1[2])\n",
    "        cost1[3]=Int(shortest_path(G,end1,inBetween[1])[2])\n",
    "        if cost1[2]+cost1[3] < cost1[1]+cost1[2]\n",
    "            println(\"Path is \",l1[1],\" and \",shortest_path(G,inBetween[1],end1)[1])\n",
    "            println(\"Cost is \",cost1[2]+cost1[3])\n",
    "            println(\"1 truck is enough\")\n",
    "        else\n",
    "            println(\"Path is \",shortest_path(G,start,end1)[1],\" and \",l1[1])\n",
    "            println(\"Cost is \",cost1[1]+cost1[2])\n",
    "            println(\"2 trucks needed\")\n",
    "        end\n",
    "    # else if length(inBetween)>1\n",
    "    #     l=[]\n",
    "    #     for i in inBetween\n",
    "    #         push!(l,shortest_path(G,start,i))\n",
    "    #     end\n",
    "        \n",
    "    end\n",
    "end"
   ]
  },
  {
   "cell_type": "code",
   "execution_count": 14,
   "metadata": {},
   "outputs": [],
   "source": [
    "#shortest_path(g,1,4)"
   ]
  },
  {
   "cell_type": "code",
   "execution_count": 15,
   "metadata": {},
   "outputs": [],
   "source": [
    "#the inbetween nodes should be strictly in between start and end and truck has infinite capacity\n",
    "#number_of_trucks(g,1,4,[94])"
   ]
  },
  {
   "cell_type": "code",
   "execution_count": 16,
   "metadata": {},
   "outputs": [],
   "source": [
    "#shortest_path(g,1,93)"
   ]
  },
  {
   "cell_type": "code",
   "execution_count": 17,
   "metadata": {},
   "outputs": [
    {
     "name": "stdout",
     "output_type": "stream",
     "text": [
      "[\"Utica\", \"NY\"]=>37"
     ]
    },
    {
     "name": "stdout",
     "output_type": "stream",
     "text": [
      "\n",
      "[\"Trenton\", \"NJ\"]=>46\n",
      "[\"Waterbury\", \"CT\"]=>26\n",
      "[\"Wilmington\", \"NC\"]=>9\n",
      "[\"Syracuse\", \"NY\"]=>56\n",
      "[\"Salina\", \"KS\"]=>100\n",
      "[\"Salem\", \"OR\"]=>102\n",
      "[\"Tulsa\", \"OK\"]=>43\n",
      "[\"Waterloo\", \"IA\"]=>25\n",
      "[\"Richmond\", \"VA\"]=>120\n",
      "[\"Reading\", \"PA\"]=>127\n",
      "[\"Sioux City\", \"IA\"]=>72\n",
      "[\"San Jose\", \"CA\"]=>90\n",
      "[\"Santa Fe\", \"NM\"]=>87\n",
      "[\"Tallahassee\", \"FL\"]=>54\n",
      "[\"Ravenna\", \"OH\"]=>128\n",
      "[\"Strouds"
     ]
    },
    {
     "name": "stdout",
     "output_type": "stream",
     "text": [
      "burg\", \"PA\"]=>59\n",
      "[\"Texarkana\", \"TX\"]=>51\n",
      "[\"Rutland\", \"VT\"]=>112\n",
      "[\"Rock Springs\", \"WY\"]=>115\n",
      "[\"Saginaw\", \"MI\"]=>110\n",
      "[\"Vancouver\", \"BC\"]=>34\n",
      "[\"Saint Louis\", \"MO\"]=>104\n",
      "[\"Wheeling\", \"WV\"]=>16\n",
      "[\"Springfield\", \"OH\"]=>65\n",
      "[\"Red Bluff\", \"CA\"]=>126\n",
      "[\"Traverse City\", \"MI\"]=>47\n",
      "[\"Sumter\", \"SC\"]=>58\n",
      "[\"Salisbury\", \"MD\"]=>98\n",
      "[\"San Angelo\", \"TX\"]=>96\n",
      "[\"Waycross\", \"GA\"]=>20\n",
      "[\"Sheridan\", \"WY\"]=>75\n",
      "[\"Waco\", \"TX\"]=>30\n",
      "[\"Tucson\", \"AZ\"]=>44\n",
      "[\"Sherman\", \"TX\"]=>74\n",
      "[\"Wichita\", \"KS\"]=>15\n",
      "[\"Washington\", \"DC\"]=>27\n",
      "[\"Schenectady\", \"NY\"]=>82\n",
      "[\"Watertown\", \"SD\"]=>23\n",
      "[\"Tuscaloosa\", \"AL\"]=>41\n",
      "[\"Regina\", \"SA\"]=>125\n",
      "[\"Williamsport\", \"PA\"]=>12\n",
      "[\"Richfield\", \"UT\"]=>122\n",
      "[\"Toronto\", \"ON\"]=>48\n",
      "[\"Springfield\", \"MA\"]=>67\n",
      "[\"Seminole\", \"OK\"]=>76\n",
      "[\"Rocky Mount\", \"NC\"]=>114\n",
      "[\"Reno\", \"NV\"]=>124\n",
      "[\"Watertown\", \"NY\"]=>24\n",
      "[\"Shreveport\", \"LA\"]=>73\n",
      "[\"Roswell\", \"NM\"]=>113\n",
      "[\"San Diego\", \"CA\"]=>93\n",
      "[\"Trinidad\", \"CO\"]=>45\n",
      "[\"Warren\", \"PA\"]=>28\n",
      "[\"Twin Falls\", \"ID\"]=>40\n",
      "[\"Savannah\", \"GA\"]=>83\n",
      "[\"Worcester\", \"MA\"]=>4\n",
      "[\"Seattle\", \"WA\"]=>79\n",
      "[\"Tyler\", \"TX\"]=>39\n",
      "[\"Wichita Falls\", \"TX\"]=>14\n",
      "[\"Topeka\", \"KS\"]=>49\n",
      "[\"Santa Barbara\", \"CA\"]=>88\n",
      "[\"Sarasota\", \"FL\"]=>85\n",
      "[\"Wilmington\", \"DE\"]=>10\n",
      "[\"Sterling\", \"CO\"]=>63\n",
      "[\"Sacramento\", \"CA\"]=>111\n",
      "[\"Steubenville\", \"OH\"]=>62\n",
      "[\"Springfield\", \"MO\"]=>66\n",
      "[\"Valdosta\", \"GA\"]=>36\n",
      "[\"Santa Rosa\", \"CA\"]=>86\n",
      "[\"San Antonio\", \"TX\"]=>95\n",
      "[\"Wausau\", \"WI\"]=>21\n",
      "[\"Salida\", \"CO\"]=>101\n",
      "[\"Uniontown\", \"PA\"]=>38\n",
      "[\"Spokane\", \"WA\"]=>69\n",
      "[\"Scottsbluff\", \"NB\"]=>81\n",
      "[\"Scranton\", \"PA\"]=>80\n",
      "[\"Saint Paul\", \"MN\"]=>103\n",
      "[\"Rochester\", \"NY\"]=>117\n",
      "[\"Winchester\", \"VA\"]=>8\n",
      "[\"Richmond\", \"IN\"]=>121\n",
      "[\"Yakima\", \"WA\"]=>3\n",
      "[\"Valley City\", \"ND\"]=>35\n",
      "[\"Stevens Point\", \"WI\"]=>61\n",
      "[\"Springfield\", \"IL\"]=>68\n",
      "[\"Saint Johnsbury\", \"VT\"]=>107\n",
      "[\"Williamson\", \"WV\"]=>13\n",
      "[\"Tupelo\", \"MS\"]=>42\n",
      "[\"Wisconsin Dells\", \"WI\"]=>5\n",
      "[\"Winston-Salem\", \"NC\"]=>6\n",
      "[\"South Bend\", \"IN\"]=>70\n",
      "[\"Saint Cloud\", \"MN\"]=>108\n",
      "[\"Staunton\", \"VA\"]=>64\n",
      "[\"Sault Sainte Marie\", \"MI\"]=>84\n",
      "[\"Winnipeg\", \"MB\"]=>7\n",
      "[\"Stockton\", \"CA\"]=>60\n",
      "[\"Weed\", \"CA\"]=>19\n",
      "[\"Salt Lake City\", \"UT\"]=>97\n",
      "[\"Toledo\", \"OH\"]=>50\n",
      "[\"Walla Walla\", \"WA\"]=>29\n",
      "[\"Sandusky\", \"OH\"]=>92\n",
      "[\"Sedalia\", \"MO\"]=>78\n",
      "[\"Saint Joseph\", \"MI\"]=>106\n",
      "[\"Vicksburg\", \"MS\"]=>33\n",
      "[\"Wenatchee\", \"WA\"]=>18\n",
      "[\"Waukegan\", \"IL\"]=>22\n",
      "[\"Youngstown\", \"OH\"]=>1\n",
      "[\"Tacoma\", \"WA\"]=>55\n",
      "[\"Santa Ana\", \"CA\"]=>89\n",
      "[\"Salinas\", \"CA\"]=>99\n",
      "[\"Saint Joseph\", \"MO\"]=>105\n",
      "[\"Williston\", \"ND\"]=>11\n",
      "[\"San Francisco\", \"CA\"]=>91\n",
      "[\"Yankton\", \"SD\"]=>2\n",
      "[\"San Bernardino\", \"CA\"]=>94\n",
      "[\"Rhinelander\", \"WI\"]=>123\n",
      "[\"Saint Augustine\", \"FL\"]=>109\n",
      "[\"Rockford\", \"IL\"]=>116\n",
      "[\"Victoria\", \"TX\"]=>32\n",
      "[\"Vincennes\", \"IN\"]=>31\n",
      "[\"West Palm Beach\", \"FL\"]=>17\n",
      "[\"Sioux Falls\", \"SD\"]=>71\n",
      "[\"Roanoke\", \"VA\"]=>119\n",
      "[\"Rochester\", \"MN\"]=>118\n",
      "[\"Swainsboro\", \"GA\"]=>57\n",
      "[\"Terre Haute\", \"IN\"]=>52\n",
      "[\"Tampa\", \"FL\"]=>53\n",
      "[\"Selma\", \"AL\"]=>77\n"
     ]
    },
    {
     "data": {
      "text/plain": [
       "number_of_trucks1 (generic function with 2 methods)"
      ]
     },
     "metadata": {},
     "output_type": "display_data"
    }
   ],
   "source": [
    "lines = readdlm(\"sgb128_dist.txt\")\n",
    "content = lines[1:end,1:end]\n",
    "content = round.(Int64,content)\n",
    "\n",
    "g=SimpleWeightedDiGraph(content)\n",
    "\n",
    "function traverse_graph(\n",
    "    J::AbstractArray, \n",
    "    start_node::Int, end_node::Int\n",
    ")\n",
    "path = Int[start_node]\n",
    "cost = 0.0\n",
    "W = SimpleWeightedGraphs.weights(g)\n",
    "\n",
    "# TODO: step1, initialize v\n",
    "v = start_node  # CHANGE ME\n",
    "num = 0\n",
    "while v != end_node && num < SimpleWeightedGraphs.nv(g)  # prevent infinite loop\n",
    "    num +=1\n",
    "    F_v = Graphs.neighbors(g, v)\n",
    "\n",
    "    # TODO: step 2, compute costs for all n in F_v\n",
    "    costs = [W[v, n] + J[n] for n in F_v]  # CHANGE ME\n",
    "\n",
    "    n = F_v[argmin(costs)]\n",
    "\n",
    "    # TODO: how should we update cost of just the one edge!?\n",
    "    cost += W[v, n] # CHANGE ME\n",
    "\n",
    "    push!(path, n)\n",
    "\n",
    "    # TODO: step 3 -- update v\n",
    "    v = n  # CHANGE MEa\n",
    "end\n",
    "path, cost\n",
    "end\n",
    "cost(W, J, n, v) = W[v, n] + J[n]\n",
    "function compute_J(dest_node::Int)\n",
    "    N = SimpleWeightedGraphs.nv(g)\n",
    "    # step 1. start with zeros\n",
    "    i = 0\n",
    "    Ji = zeros(N)\n",
    "\n",
    "    # allocating memory/creating the array we will \n",
    "    # fill in for J_{i+1}\n",
    "    next_J = zeros(N)\n",
    "\n",
    "    # get the weight matrix from the graph G\n",
    "    W = SimpleWeightedGraphs.weights(g)\n",
    "\n",
    "    done = false\n",
    "    while !done\n",
    "        i += 1\n",
    "        for v in 1:N\n",
    "            if v == dest_node\n",
    "                next_J[v] = 0\n",
    "                continue\n",
    "            end\n",
    "            F_v = Graphs.neighbors(g, v)\n",
    "            costs = [cost(W, Ji, n, v) for n in F_v]\n",
    "            next_J[v] = minimum(costs)\n",
    "        end\n",
    "        done = all(next_J .≈ Ji)\n",
    "        copy!(Ji, next_J)\n",
    "    end\n",
    "    Ji\n",
    "end\n",
    "function shortest_path(start_node::Int, end_node::Int)\n",
    "    J = compute_J(end_node)\n",
    "    traverse_graph(J, start_node, end_node)\n",
    "end\n",
    "\n",
    "\n",
    "function remove_hash_lines(input_file::AbstractString)\n",
    "    # Open the input file in read mode\n",
    "    open(input_file, \"r\") do file\n",
    "        # Read all the lines from the file\n",
    "        lines = readlines(file)\n",
    "        \n",
    "        # Initialize an empty list to store the filtered lines\n",
    "        filtered_lines = Vector{String}()\n",
    "        \n",
    "        # Iterate over each line\n",
    "        for line in lines\n",
    "            # Check if the line starts with a hash symbol\n",
    "            if !startswith(line, '#')\n",
    "                # If the line doesn't start with a hash, append it to the filtered lines list\n",
    "                push!(filtered_lines, line)\n",
    "            end\n",
    "        end\n",
    "        \n",
    "        return filtered_lines\n",
    "    end\n",
    "end\n",
    "\n",
    "# Usage\n",
    "filtered_lines = remove_hash_lines(\"sgb128_name.txt\")\n",
    "#filtered_lines\n",
    "\n",
    "\n",
    "split_lists = Vector{Vector{String}}()\n",
    "    \n",
    "for line in filtered_lines\n",
    "    # Split the line based on comma (',') and strip whitespace from each element\n",
    "    split_elements = [strip(element) for element in split(line, ',')]\n",
    "    \n",
    "    # Append the split elements to the list of lists\n",
    "    push!(split_lists, split_elements)\n",
    "end\n",
    "#split_lists\n",
    "map_board=Dict(zip(split_lists,1:length(split_lists)))\n",
    "map_board_rev=Dict()\n",
    "for i in eachindex(map_board)\n",
    "    println(i,\"=>\",map_board[i])\n",
    "    map_board_rev[map_board[i]]=i\n",
    "end\n",
    "function checkNode(start,end1,inbetween)\n",
    "    l = shortest_path(start,end1)[1] \n",
    "    res = setdiff(Set(inbetween),Set(l))\n",
    "    collect(res)\n",
    " end\n",
    "\n",
    "#finding number of trucks\n",
    "#if number of intermediate locations >2\n",
    "function number_of_trucks1(start,end1,inBetween=[])\n",
    "    if length(inBetween)==0\n",
    "        l1=shortest_path(start,end1)\n",
    "        println(\"Path is \",l1[1])\n",
    "        println(\"Cost is \",l1[2])\n",
    "        println(\"1 truck is enough\")\n",
    "        return l1,([\"\"],1)\n",
    "    end\n",
    "    #checking any inbetween node is in shortest path between start and end\n",
    "    c=checkNode(start,end1,inBetween)\n",
    "    if length(c)==0\n",
    "        l1=shortest_path(start,end1)\n",
    "        println(\"Path is \",l1[1])\n",
    "        println(\"Cost is \",l1[2])\n",
    "        println(\"1 truck is enough\")\n",
    "        return l1,([\"\"],1)\n",
    "    end\n",
    "    if length(c)==1 && length(inBetween)==1\n",
    "        cost1 = [0,0,0]\n",
    "        cost1[1]=Int(shortest_path(start,end1)[2])\n",
    "        l1 = shortest_path(start,inBetween[1])\n",
    "        c1 = checkNode(start,inBetween[1],[end1])\n",
    "        if length(c1)==0\n",
    "            println(\"Path is \",l1[1])\n",
    "            println(\"Cost is \",l1[2])\n",
    "            println(\"1 truck is enough\")\n",
    "            return l1,([\"\"],1)\n",
    "        end\n",
    "        cost1[2]=Int(l1[2])\n",
    "        cost1[3]=Int(shortest_path(end1,inBetween[1])[2])\n",
    "        if cost1[2]+cost1[3] < cost1[1]+cost1[2]\n",
    "            println(\"Path is \",l1[1],\" and \",shortest_path(inBetween[1],end1)[1])\n",
    "            println(\"Cost is \",cost1[2]+cost1[3])\n",
    "            println(\"1 truck is enough\")\n",
    "            return l1,shortest_path(inBetween[1],end1),([\"\"],1)\n",
    "        else\n",
    "            println(\"Path is \",shortest_path(start,end1)[1],\" and \",l1[1])\n",
    "            println(\"Cost is \",cost1[1]+cost1[2])\n",
    "            println(\"2 trucks needed\")\n",
    "            return shortest_path(start,end1),l1\n",
    "        end\n",
    "    # else if length(inBetween)>1\n",
    "    #     l=[]\n",
    "    #     for i in inBetween\n",
    "    #         push!(l,shortest_path(G,start,i))\n",
    "    #     end\n",
    "        \n",
    "    end\n",
    "end\n"
   ]
  },
  {
   "cell_type": "code",
   "execution_count": 18,
   "metadata": {},
   "outputs": [
    {
     "name": "stdout",
     "output_type": "stream",
     "text": [
      "Path is [1, 94] and [94, 5, 93, 4]\n",
      "Cost is 487\n",
      "1 truck is enough\n"
     ]
    },
    {
     "data": {
      "text/plain": [
       "(([1, 94], 130.0), ([94, 5, 93, 4], 357.0), ([\"\"], 1))"
      ]
     },
     "metadata": {},
     "output_type": "display_data"
    }
   ],
   "source": [
    "x1=number_of_trucks1(1,4,[94])"
   ]
  },
  {
   "cell_type": "code",
   "execution_count": 19,
   "metadata": {},
   "outputs": [
    {
     "name": "stdout",
     "output_type": "stream",
     "text": [
      "Path is [1, 94] and [94, 5, 93, 4]\n",
      "Cost is 487\n",
      "1 truck is enough"
     ]
    },
    {
     "name": "stdout",
     "output_type": "stream",
     "text": [
      "\n"
     ]
    },
    {
     "data": {
      "text/plain": [
       "487"
      ]
     },
     "metadata": {},
     "output_type": "display_data"
    }
   ],
   "source": [
    "trucks = number_of_trucks1(1,4,[94])\n",
    "x11=[]\n",
    "for i in 1:length(trucks)-1\n",
    "    for j in trucks[i][1]\n",
    "        push!(x11,j)\n",
    "    end\n",
    "end\n",
    "r11=[]\n",
    "push!(r11,0)\n",
    "for i in 2:length(x11)\n",
    "    if x11[i-1]==x11[i]\n",
    "        push!(r11,0)\n",
    "        continue\n",
    "    end\n",
    "    push!(r11,content[x11[i-1],x11[i]])\n",
    "end\n",
    "r11\n",
    "sum(r11)"
   ]
  },
  {
   "cell_type": "code",
   "execution_count": 20,
   "metadata": {},
   "outputs": [
    {
     "data": {
      "text/plain": [
       "213"
      ]
     },
     "metadata": {},
     "output_type": "display_data"
    }
   ],
   "source": [
    "content[93,5]"
   ]
  },
  {
   "cell_type": "code",
   "execution_count": 21,
   "metadata": {},
   "outputs": [
    {
     "data": {
      "text/plain": [
       "Dict{Any, Any}()"
      ]
     },
     "metadata": {},
     "output_type": "display_data"
    }
   ],
   "source": [
    "map_board_rev=Dict()"
   ]
  },
  {
   "cell_type": "code",
   "execution_count": 22,
   "metadata": {},
   "outputs": [
    {
     "name": "stdout",
     "output_type": "stream",
     "text": [
      "[\"Utica\", \"NY\"]=>37\n",
      "[\"Trenton\", \"NJ\"]=>46\n",
      "[\"Waterbury\", \"CT\"]=>26\n",
      "[\"Wilmington\", \"NC\"]=>9\n",
      "[\"Syracuse\", \"NY\"]=>56\n",
      "[\"Salina\", \"KS\"]=>100\n",
      "[\"Salem\", \"OR\"]=>102\n",
      "[\"Tulsa\", \"OK\"]=>43\n",
      "[\"Waterloo\", \"IA\"]=>25\n",
      "[\"Richmond\", \"VA\"]=>120\n",
      "[\"Reading\", \"PA\"]=>127\n",
      "[\"Sioux City\", \"IA\"]=>72\n",
      "[\"San Jose\", \"CA\"]=>90\n",
      "[\"Santa Fe\", \"NM\"]=>87\n",
      "[\"Tallahassee\", \"FL\"]=>54\n",
      "[\"Ravenna\", \"OH\"]=>128\n",
      "[\"Stroudsburg\", \"PA\"]=>59\n",
      "[\"Texarkana\", \"TX\"]=>51\n",
      "[\"Rutland\", \"VT\"]=>112\n",
      "[\"Rock Springs\", \"WY\"]=>115\n",
      "[\"Saginaw\", \"MI\"]=>110\n",
      "[\"Vancouver\", \"BC\"]=>34\n",
      "[\"Saint Louis\", \"MO\"]=>104\n",
      "[\"Wheeling\", \"WV\"]=>16\n",
      "[\"Springfield\", \"OH\"]=>65\n",
      "[\"Red Bluff\", \"CA\"]=>126\n",
      "[\"Traverse City\", \"MI\"]=>47\n",
      "[\"Sumter\", \"SC\"]=>58\n",
      "[\"Salisbury\", \"MD\"]=>98\n",
      "[\"San Angelo\", \"TX\"]=>96\n",
      "[\"Waycross\", \"GA\"]=>20\n",
      "[\"Sheridan\", \"WY\"]=>75\n",
      "[\"Waco\", \"TX\"]=>30\n",
      "[\"Tucson\", \"AZ\"]=>44\n",
      "[\"Sherman\", \"TX\"]=>74\n",
      "[\"Wichita\", \"KS\"]=>15\n",
      "[\"Washington\", \"DC\"]=>27\n",
      "[\"Schenectady\", \"NY\"]=>82\n",
      "[\"Watertown\", \"SD\"]=>23\n",
      "[\"Tuscaloosa\", \"AL\"]=>41\n",
      "[\"Regina\", \"SA\"]=>125\n",
      "[\"Williamsport\", \"PA\"]=>12\n",
      "[\"Richfield\", \"UT\"]=>122\n",
      "[\"Toronto\", \"ON\"]=>48\n",
      "[\"Springfield\", \"MA\"]=>67\n",
      "[\"Seminole\", \"OK\"]=>76\n",
      "[\"Rocky Mount\", \"NC\"]=>114\n",
      "[\"Reno\", \"NV\"]=>124\n",
      "[\"Watertown\", \"NY\"]=>24\n",
      "[\"Shreveport\", \"LA\"]=>73\n",
      "[\"Roswell\", \"NM\"]=>113\n",
      "[\"San Diego\", \"CA\"]=>93\n",
      "[\"Trinidad\", \"CO\"]=>45\n",
      "[\"Warren\", \"PA\"]=>28\n",
      "[\"Twin Falls\", \"ID\"]=>40\n",
      "[\"Savannah\", \"GA\"]=>83\n",
      "[\"Worcester\", \"MA\"]=>4\n",
      "[\"Seattle\", \"WA\"]=>79\n",
      "[\"Tyler\", \"TX\"]=>39\n",
      "[\"Wichita Falls\", \"TX\"]=>14\n",
      "[\"Topeka\", \"KS\"]=>49\n",
      "[\"Santa Barbara\", \"CA\"]=>88\n",
      "[\"Sarasota\", \"FL\"]=>85\n",
      "[\"Wilmington\", \"DE\"]=>10\n",
      "[\"Sterling\", \"CO\"]=>63\n",
      "[\"Sacramento\", \"CA\"]=>111\n",
      "[\"Steubenville\", \"OH\"]=>62\n",
      "[\"Springfield\", \"MO\"]=>66\n",
      "[\"Valdosta\", \"GA\"]=>36\n",
      "[\"Santa Rosa\", \"CA\"]=>86\n",
      "[\"San Antonio\", \"TX\"]=>95\n",
      "[\"Wausau\", \"WI\"]=>21\n",
      "[\"Salida\", \"CO\"]=>101\n",
      "[\"Uniontown\", \"PA\"]=>38\n",
      "[\"Spokane\", \"WA\"]=>69\n",
      "[\"Scottsbluff\", \"NB\"]=>81\n",
      "[\"Scranton\", \"PA\"]=>80\n",
      "[\"Saint Paul\", \"MN\"]=>103\n",
      "[\"Rochester\", \"NY\"]=>117\n",
      "[\"Winchester\", \"VA\"]=>8\n",
      "[\"Richmond\", \"IN\"]=>121\n",
      "[\"Yakima\", \"WA\"]=>3\n",
      "[\"Valley City\", \"ND\"]=>35\n",
      "[\"Stevens Point\", \"WI\"]=>61\n",
      "[\"Springfield\", \"IL\"]=>68\n",
      "[\"Saint Johnsbury\", \"VT\"]=>107\n",
      "[\"Williamson\", \"WV\"]=>13\n",
      "[\"Tupelo\", \"MS\"]=>42\n",
      "[\"Wisconsin Dells\", \"WI\"]=>5\n",
      "[\"Winston-Salem\", \"NC\"]=>6\n",
      "[\"South Bend\", \"IN\"]=>70\n",
      "[\"Saint Cloud\", \"MN\"]=>108\n",
      "[\"Staun"
     ]
    },
    {
     "name": "stdout",
     "output_type": "stream",
     "text": [
      "ton\", \"VA\"]=>64\n",
      "[\"Sault Sainte Marie\", \"MI\"]=>84\n",
      "[\"Winnipeg\", \"MB\"]=>7\n",
      "[\"Stockton\", \"CA\"]=>60\n",
      "[\"Weed\", \"CA\"]=>19\n",
      "[\"Salt Lake City\", \"UT\"]=>97\n",
      "[\"Toledo\", \"OH\"]=>50\n",
      "[\"Walla Walla\", \"WA\"]=>29\n",
      "[\"Sandusky\", \"OH\"]=>92\n",
      "[\"Sedalia\", \"MO\"]=>78\n",
      "[\"Saint Joseph\", \"MI\"]=>106\n",
      "[\"Vicksburg\", \"MS\"]=>33\n",
      "[\"Wenatchee\", \"WA\"]=>18\n",
      "[\"Waukegan\", \"IL\"]=>22\n",
      "[\"Youngstown\", \"OH\"]=>1\n",
      "[\"Tacoma\", \"WA\"]=>55\n",
      "[\"Santa Ana\", \"CA\"]=>89\n",
      "[\"Salinas\", \"CA\"]=>99\n",
      "[\"Saint Joseph\", \"MO\"]=>105\n",
      "[\"Williston\", \"ND\"]=>11\n",
      "[\"San Francisco\", \"CA\"]=>91\n",
      "[\"Yankton\", \"SD\"]=>2\n",
      "[\"San Bernardino\", \"CA\"]=>94\n",
      "[\"Rhinelander\", \"WI\"]=>123\n",
      "[\"Saint Augustine\", \"FL\"]=>109\n",
      "[\"Rockford\", \"IL\"]=>116\n",
      "[\"Victoria\", \"TX\"]=>32\n",
      "[\"Vincennes\", \"IN\"]=>31\n",
      "[\"West Palm Beach\", \"FL\"]=>17\n",
      "[\"Sioux Falls\", \"SD\"]=>71\n",
      "[\"Roanoke\", \"VA\"]=>119\n",
      "[\"Rochester\", \"MN\"]=>118\n",
      "[\"Swainsboro\", \"GA\"]=>57\n",
      "[\"Terre Haute\", \"IN\"]=>52\n",
      "[\"Tampa\", \"FL\"]=>53\n",
      "[\"Selma\", \"AL\"]=>77\n"
     ]
    },
    {
     "data": {
      "text/plain": [
       "Dict{Any, Any} with 128 entries:\n",
       "  5   => [\"Wisconsin Dells\", \"WI\"]\n",
       "  56  => [\"Syracuse\", \"NY\"]\n",
       "  114 => [\"Rocky Mount\", \"NC\"]\n",
       "  35  => [\"Valley City\", \"ND\"]\n",
       "  110 => [\"Saginaw\", \"MI\"]\n",
       "  55  => [\"Tacoma\", \"WA\"]\n",
       "  123 => [\"Rhinelander\", \"WI\"]\n",
       "  60  => [\"Stockton\", \"CA\"]\n",
       "  30  => [\"Waco\", \"TX\"]\n",
       "  32  => [\"Victoria\", \"TX\"]\n",
       "  6   => [\"Winston-Salem\", \"NC\"]\n",
       "  67  => [\"Springfield\", \"MA\"]\n",
       "  45  => [\"Trinidad\", \"CO\"]\n",
       "  117 => [\"Rochester\", \"NY\"]\n",
       "  73  => [\"Shreveport\", \"LA\"]\n",
       "  115 => [\"Rock Springs\", \"WY\"]\n",
       "  112 => [\"Rutland\", \"VT\"]\n",
       "  64  => [\"Staunton\", \"VA\"]\n",
       "  90  => [\"San Jose\", \"CA\"]\n",
       "  ⋮   => ⋮"
      ]
     },
     "metadata": {},
     "output_type": "display_data"
    }
   ],
   "source": [
    "map_board_rev=Dict()\n",
    "for i in eachindex(map_board)\n",
    "    println(i,\"=>\",map_board[i])\n",
    "    map_board_rev[map_board[i]]=i\n",
    "end\n",
    "map_board_rev"
   ]
  },
  {
   "cell_type": "code",
   "execution_count": 23,
   "metadata": {},
   "outputs": [
    {
     "data": {
      "text/plain": [
       "129-element Vector{Vector{String}}:\n",
       " [\"\"]\n",
       " [\"Utica\", \"NY\"]\n",
       " [\"Trenton\", \"NJ\"]\n",
       " [\"Waterbury\", \"CT\"]\n",
       " [\"Wilmington\", \"NC\"]\n",
       " [\"Syracuse\", \"NY\"]\n",
       " [\"Salina\", \"KS\"]\n",
       " [\"Salem\", \"OR\"]\n",
       " [\"Tulsa\", \"OK\"]\n",
       " [\"Waterloo\", \"IA\"]\n",
       " ⋮\n",
       " [\"Vincennes\", \"IN\"]\n",
       " [\"West Palm Beach\", \"FL\"]\n",
       " [\"Sioux Falls\", \"SD\"]\n",
       " [\"Roanoke\", \"VA\"]\n",
       " [\"Rochester\", \"MN\"]\n",
       " [\"Swainsboro\", \"GA\"]\n",
       " [\"Terre Haute\", \"IN\"]\n",
       " [\"Tampa\", \"FL\"]\n",
       " [\"Selma\", \"AL\"]"
      ]
     },
     "metadata": {},
     "output_type": "display_data"
    }
   ],
   "source": [
    "l=copy(keys(map_board))\n",
    "l=collect(l)\n",
    "insert!(l, 1, [\"\"])"
   ]
  }
 ],
 "metadata": {
  "kernelspec": {
   "display_name": "Julia 1.9.2",
   "language": "julia",
   "name": "julia-1.9"
  },
  "language_info": {
   "file_extension": ".jl",
   "mimetype": "application/julia",
   "name": "julia",
   "version": "1.9.2"
  }
 },
 "nbformat": 4,
 "nbformat_minor": 2
}
